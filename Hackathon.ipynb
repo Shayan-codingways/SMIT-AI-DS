{
 "cells": [
  {
   "cell_type": "markdown",
   "id": "3c454034-5b56-4acf-81f2-d9b397c422c5",
   "metadata": {},
   "source": [
    "# HACKATHON"
   ]
  },
  {
   "cell_type": "markdown",
   "id": "cc728c72-0fca-4765-8790-9737b60c2c10",
   "metadata": {},
   "source": [
    "### STEP 1 --> CLASS BANK_ACCOUNT"
   ]
  },
  {
   "cell_type": "code",
   "execution_count": 11,
   "id": "55f483ef-c84b-470a-9c6a-190d7aaf2f05",
   "metadata": {},
   "outputs": [],
   "source": [
    "class bank_account(bank_account):\n",
    "    def __init(self, account_number, account_holder , balance, transactions):\n",
    "        self.__account_number = account_number\n",
    "        self.__account_holder = account_holder\n",
    "        self.__account_balance = balance\n",
    "        self.__transcations = transactions\n",
    "\n",
    "    def set_account_number(self, new_member):\n",
    "        self.__account_number = new_number\n",
    "    def get_account_number(self, new_member):\n",
    "        return self.__account_number \n",
    "    def set_account_holder(self , new_holder):\n",
    "        self.__account_holder = new_holder\n",
    "    def set_account_balance(self , new_balance):\n",
    "        self.__account_holder = new_balance\n",
    "    def set_account_transactions(self , new_transactions):\n",
    "        self.__account_holder = new_transactions\n",
    "\n",
    "\n",
    "    # deposit function\n",
    "    def deposit(self, amount):\n",
    "        self.__account_balance = self.__account_balance + amount\n",
    "        return f\"{amount} deposited!\"\n",
    "    \n",
    "    # withdraw function\n",
    "    def withdraw(self, amount):\n",
    "        if(self.__account_balance >= amount): \n",
    "            self.__account_balance = self.__account_balance - amount\n",
    "            return f\"{amount} withdrawn!\"\n",
    "        else: \n",
    "            print(\"Insufficient Amount\")\n",
    "    \n",
    "    # Checking balance\n",
    "    def check_balance(self):\n",
    "         return self.__account_balance\n",
    "\n",
    "    # transactions history\n",
    "    def transactions_history(transaction):\n",
    "        f = open(\"transactions.txt\",\"a\")\n",
    "        f.write(transactions)\n",
    "        f.close()\n",
    "\n",
    "    # display transactions\n",
    "    def print_statement():\n",
    "        f = open(\"transactions.txt\",\"r\")\n",
    "        f.read()\n",
    "        f.close()"
   ]
  },
  {
   "cell_type": "markdown",
   "id": "c9f0c979-a8c0-4d20-aeeb-2b7bc156816f",
   "metadata": {},
   "source": [
    "### STEP 2 --> CLASS BANK_CLASS"
   ]
  },
  {
   "cell_type": "code",
   "execution_count": 80,
   "id": "b9e7465e-98ec-4d85-88b6-cd41b8efb280",
   "metadata": {},
   "outputs": [],
   "source": [
    "class bank_class():\n",
    "     def __init__(self):\n",
    "        self.__accounts[self.__account_number] = self\n",
    "\n",
    "     # new_account\n",
    "     def open_account(self , account_holder):\n",
    "        if self.__accounts.values() == account_holder:\n",
    "            \n",
    "            number = [1,23,4,34,67,45,26,78,25,12,35,56,32,37,56]\n",
    "            \n",
    "            for i in range(i,len(number)):\n",
    "                num = number[i]\n",
    "                break\n",
    "\n",
    "            i=i+1\n",
    "            \n",
    "            self.__accounts[num] = self\n",
    "        \n",
    "        else:\n",
    "            print(\"Account holder non existing!\")\n",
    "\n",
    "     # account function returning object\n",
    "     def account(self, account_number):\n",
    "         return self.__accounts[account_number]\n",
    "\n",
    "     # amount transfer\n",
    "     def transfer(self, sender_account_number, reciever_account_number, amount):\n",
    "         self.__accounts[sender_account_number].withdraw(amount)\n",
    "         self.__accounts[reciever_account_number].deposited(amount)\n",
    "\n",
    "     # total balance of bank\n",
    "     def admin_check_total_deposits(self):\n",
    "         total = 0\n",
    "         for i in self.__accounts.values():\n",
    "             total = total + i.check_balance()\n",
    "\n",
    "         return total\n",
    "\n",
    "     # total accounts in bank\n",
    "     def admin_check_total_deposits(self):\n",
    "         count = 0\n",
    "         for i in self.__accounts.values():\n",
    "             count = count + 1\n",
    "\n",
    "         return count\n",
    "        "
   ]
  },
  {
   "cell_type": "code",
   "execution_count": null,
   "id": "679cbc76-51fd-4dba-9e42-e75682126473",
   "metadata": {},
   "outputs": [],
   "source": []
  },
  {
   "cell_type": "code",
   "execution_count": null,
   "id": "97a7108d-db5d-48ff-a816-61f3726d67c5",
   "metadata": {},
   "outputs": [],
   "source": []
  },
  {
   "cell_type": "code",
   "execution_count": 58,
   "id": "10528f92-6b20-4ae2-9011-ca777c2e5926",
   "metadata": {},
   "outputs": [
    {
     "data": {
      "text/plain": [
       "1"
      ]
     },
     "execution_count": 58,
     "metadata": {},
     "output_type": "execute_result"
    }
   ],
   "source": [
    "number = [1,23,4,34,67,45,26,78,25,12,35,56,32,37,56]\n",
    "for i in range(len(number)):\n",
    "                num = number[i]\n",
    "                break\n",
    "i=i+1\n",
    "num "
   ]
  },
  {
   "cell_type": "code",
   "execution_count": 70,
   "id": "dd3d6736-9ab3-4c51-86ad-846452dcc528",
   "metadata": {},
   "outputs": [
    {
     "name": "stdout",
     "output_type": "stream",
     "text": [
      "1\n",
      "1\n",
      "23\n"
     ]
    }
   ],
   "source": [
    "number = [1,23,4,34,67,45,26,78,25,12,35,56,32,37,56]\n",
    "for i in range(len(number)):\n",
    "                num = number[i]\n",
    "                break\n",
    "i=i+1\n",
    "print(num) \n",
    "print(i)\n",
    "number = [1,23,4,34,67,45,26,78,25,12,35,56,32,37,56]\n",
    "for i in range(i,len(number)):\n",
    "                num = number[i]\n",
    "                break\n",
    "\n",
    "print(num)"
   ]
  },
  {
   "cell_type": "code",
   "execution_count": null,
   "id": "4e38c713-16df-41ed-8033-5e2a1720e404",
   "metadata": {},
   "outputs": [],
   "source": []
  }
 ],
 "metadata": {
  "kernelspec": {
   "display_name": "Python 3 (ipykernel)",
   "language": "python",
   "name": "python3"
  },
  "language_info": {
   "codemirror_mode": {
    "name": "ipython",
    "version": 3
   },
   "file_extension": ".py",
   "mimetype": "text/x-python",
   "name": "python",
   "nbconvert_exporter": "python",
   "pygments_lexer": "ipython3",
   "version": "3.12.7"
  }
 },
 "nbformat": 4,
 "nbformat_minor": 5
}
