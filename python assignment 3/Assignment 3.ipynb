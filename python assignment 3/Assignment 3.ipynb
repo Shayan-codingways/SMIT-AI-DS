{
 "cells": [
  {
   "cell_type": "markdown",
   "id": "3d2cda53-a61c-4bc6-bde7-6deb5637fde7",
   "metadata": {},
   "source": [
    "# Discounts and Pricings"
   ]
  },
  {
   "cell_type": "code",
   "execution_count": 84,
   "id": "39e0770d-9e89-4272-8b37-1602c1be9f1a",
   "metadata": {},
   "outputs": [
    {
     "name": "stdin",
     "output_type": "stream",
     "text": [
      "Enter the total purchase amount: $ 120\n"
     ]
    },
    {
     "name": "stdout",
     "output_type": "stream",
     "text": [
      "Eligible for a discount. Final price: $108.00\n"
     ]
    }
   ],
   "source": [
    "# Input total purchase amount\n",
    "total_purchase = float(input(\"Enter the total purchase amount: $\"))\n",
    "\n",
    "# Check if the total purchase is greater than $100\n",
    "if total_purchase > 100:\n",
    "    discount = 0.10  # 10% discount\n",
    "    final_price = total_purchase * (1 - discount)\n",
    "    print(f\"Eligible for a discount. Final price: ${final_price:.2f}\")\n",
    "else:\n",
    "    print(f\"No discount. Total price: ${total_purchase:.2f}\")\n"
   ]
  },
  {
   "cell_type": "code",
   "execution_count": 86,
   "id": "494fd92c-5c01-4aa1-9641-fbe1ef47f888",
   "metadata": {},
   "outputs": [
    {
     "name": "stdin",
     "output_type": "stream",
     "text": [
      "Enter the number of items:  6\n",
      "Enter the total price: $ 34\n"
     ]
    },
    {
     "name": "stdout",
     "output_type": "stream",
     "text": [
      "Eligible for a bulk discount. Final price: $28.90\n"
     ]
    }
   ],
   "source": [
    "# Input number of items and total price\n",
    "num_items = int(input(\"Enter the number of items: \"))\n",
    "total_price = float(input(\"Enter the total price: $\"))\n",
    "\n",
    "# Check if the customer buys more than 5 items\n",
    "if num_items > 5:\n",
    "    discount = 0.15  # 15% discount\n",
    "    final_price = total_price * (1 - discount)\n",
    "    print(f\"Eligible for a bulk discount. Final price: ${final_price:.2f}\")\n",
    "else:\n",
    "    print(f\"No bulk discount. Total price: ${total_price:.2f}\")\n"
   ]
  },
  {
   "cell_type": "code",
   "execution_count": 88,
   "id": "e0b789fd-2968-4294-82fd-8402719ce1f6",
   "metadata": {},
   "outputs": [
    {
     "name": "stdin",
     "output_type": "stream",
     "text": [
      "Is the customer a member? (yes/no):  no\n",
      "Enter the total price: $ 34\n"
     ]
    },
    {
     "name": "stdout",
     "output_type": "stream",
     "text": [
      "Discounted price: $32.30\n"
     ]
    }
   ],
   "source": [
    "# Input membership status and total price\n",
    "is_member = input(\"Is the customer a member? (yes/no): \").lower() == \"yes\"\n",
    "total_price = float(input(\"Enter the total price: $\"))\n",
    "\n",
    "# Check membership status and apply discount\n",
    "if is_member:\n",
    "    discount = 0.20  # 20% discount for members\n",
    "else:\n",
    "    discount = 0.05  # 5% discount for non-members\n",
    "\n",
    "discounted_price = total_price * (1 - discount)\n",
    "print(f\"Discounted price: ${discounted_price:.2f}\")\n"
   ]
  },
  {
   "cell_type": "code",
   "execution_count": 90,
   "id": "3369d813-75d9-40dc-83ef-9834e68fb71d",
   "metadata": {},
   "outputs": [
    {
     "name": "stdin",
     "output_type": "stream",
     "text": [
      "Is today a holiday? (yes/no):  yes\n",
      "Enter the total price: $ 23\n"
     ]
    },
    {
     "name": "stdout",
     "output_type": "stream",
     "text": [
      "Price after seasonal sale discount: $17.25\n"
     ]
    }
   ],
   "source": [
    "# Input holiday status and total price\n",
    "is_holiday = input(\"Is today a holiday? (yes/no): \").lower() == \"yes\"\n",
    "total_price = float(input(\"Enter the total price: $\"))\n",
    "\n",
    "# Apply discount based on holiday status\n",
    "if is_holiday:\n",
    "    discount = 0.25  # 25% discount for holidays\n",
    "else:\n",
    "    discount = 0.10  # 10% discount otherwise\n",
    "\n",
    "final_price = total_price * (1 - discount)\n",
    "print(f\"Price after seasonal sale discount: ${final_price:.2f}\")\n"
   ]
  },
  {
   "cell_type": "code",
   "execution_count": 94,
   "id": "1c0e8c66-79db-4005-8cd0-8bdc070065f8",
   "metadata": {},
   "outputs": [
    {
     "name": "stdin",
     "output_type": "stream",
     "text": [
      "Enter the number of items:  35\n",
      "Enter the price per item: $ 34\n"
     ]
    },
    {
     "name": "stdout",
     "output_type": "stream",
     "text": [
      "Number of items to pay for: 35\n",
      "Final price: $1190.00\n"
     ]
    }
   ],
   "source": [
    "# Input number of items and price per item\n",
    "num_items = int(input(\"Enter the number of items: \"))\n",
    "price_per_item = float(input(\"Enter the price per item: $\"))\n",
    "\n",
    "# Check if the number of items is even\n",
    "if num_items % 2 == 0:\n",
    "    items_to_pay_for = num_items // 2  # Pay for half the items integer divison \n",
    "else:\n",
    "    items_to_pay_for = num_items  # Pay for all items\n",
    "\n",
    "final_price = items_to_pay_for * price_per_item\n",
    "print(f\"Number of items to pay for: {items_to_pay_for}\")\n",
    "print(f\"Final price: ${final_price:.2f}\")\n"
   ]
  },
  {
   "cell_type": "markdown",
   "id": "c75d1021-acb7-431b-8a99-ee37df5354f3",
   "metadata": {},
   "source": [
    "# Tax Calculations"
   ]
  },
  {
   "cell_type": "code",
   "execution_count": 73,
   "id": "8eeea089-1cb0-4b26-b0f1-29e61dc7d444",
   "metadata": {},
   "outputs": [
    {
     "name": "stdin",
     "output_type": "stream",
     "text": [
      "Enter the price of the item: $ 600\n"
     ]
    },
    {
     "name": "stdout",
     "output_type": "stream",
     "text": [
      "Total price after tax: $690.00\n"
     ]
    }
   ],
   "source": [
    "# 6. Sales Tax\n",
    "price = float(input(\"Enter the price of the item: $\"))\n",
    "\n",
    "if price > 500:\n",
    "    tax = price * 0.15  # 15% luxury tax\n",
    "else:\n",
    "    tax = price * 0.08  # 8% standard tax\n",
    "    \n",
    "total_price = price + tax\n",
    "\n",
    "print(f\"Total price after tax: ${total_price:.2f}\")\n",
    "\n",
    "\n"
   ]
  },
  {
   "cell_type": "code",
   "execution_count": 75,
   "id": "1e6fdf25-e02e-4118-acc4-1c3082761478",
   "metadata": {},
   "outputs": [
    {
     "name": "stdin",
     "output_type": "stream",
     "text": [
      "Enter the person's annual income: $ 456\n"
     ]
    },
    {
     "name": "stdout",
     "output_type": "stream",
     "text": [
      "Tax amount: $45.60\n"
     ]
    }
   ],
   "source": [
    "# 7. Income Tax\n",
    "income = float(input(\"Enter the person's annual income: $\"))\n",
    "if income > 50000:\n",
    "    tax_amount = income * 0.20  # 20% tax\n",
    "else:\n",
    "    tax_amount = income * 0.10  # 10% tax\n",
    "    \n",
    "print(f\"Tax amount: ${tax_amount:.2f}\")\n"
   ]
  },
  {
   "cell_type": "code",
   "execution_count": 77,
   "id": "a45dc5e9-a635-4c90-a895-1dfe3e0605ff",
   "metadata": {},
   "outputs": [
    {
     "name": "stdin",
     "output_type": "stream",
     "text": [
      "Enter the person's annual income: $ 394949\n"
     ]
    },
    {
     "name": "stdout",
     "output_type": "stream",
     "text": [
      "High Tax\n"
     ]
    }
   ],
   "source": [
    "# 8. Tax Bracket\n",
    "income = float(input(\"Enter the person's annual income: $\"))\n",
    "if income < 30000:\n",
    "    print(\"Low Tax\")\n",
    "elif 30000 <= income < 100000:\n",
    "    print(\"Medium Tax\")\n",
    "else:\n",
    "    print(\"High Tax\")"
   ]
  },
  {
   "cell_type": "code",
   "execution_count": 79,
   "id": "d98afbd9-4c93-4855-bdeb-5940152d6564",
   "metadata": {},
   "outputs": [
    {
     "name": "stdin",
     "output_type": "stream",
     "text": [
      "Enter the price of the item: $ 7788656\n",
      "Is the item essential? (yes/no):  yes\n"
     ]
    },
    {
     "name": "stdout",
     "output_type": "stream",
     "text": [
      "Final price after VAT: $8178088.80\n"
     ]
    }
   ],
   "source": [
    "\n",
    "# 9. VAT Calculation\n",
    "price = float(input(\"Enter the price of the item: $\"))\n",
    "is_essential = input(\"Is the item essential? (yes/no): \").lower() == \"yes\"\n",
    "\n",
    "if is_essential:\n",
    "    vat = price * 0.05  # 5% VAT for essential items\n",
    "else:\n",
    "    vat = price * 0.12  # 12% VAT for non-essential items\n",
    "    \n",
    "final_price = price + vat\n",
    "\n",
    "print(f\"Final price after VAT: ${final_price:.2f}\")"
   ]
  },
  {
   "cell_type": "code",
   "execution_count": 81,
   "id": "3f755c9e-2a46-4a93-aeb2-034ab8283810",
   "metadata": {},
   "outputs": [
    {
     "name": "stdin",
     "output_type": "stream",
     "text": [
      "Enter the price of the item: $ 4775785\n",
      "Is today a tax-free day? (yes/no):  yes\n"
     ]
    },
    {
     "name": "stdout",
     "output_type": "stream",
     "text": [
      "Original price: $4775785.00\n"
     ]
    }
   ],
   "source": [
    "\n",
    "# 10. Tax-Free Day\n",
    "price = float(input(\"Enter the price of the item: $\"))\n",
    "tax_free = input(\"Is today a tax-free day? (yes/no): \").lower() == \"yes\"\n",
    "\n",
    "if tax_free:\n",
    "    print(f\"Original price: ${price:.2f}\")\n",
    "else:\n",
    "    tax = price * 0.07  # 7% tax\n",
    "    \n",
    "    total_price = price + tax\n",
    "    print(f\"Total price after tax: ${total_price:.2f}\")"
   ]
  },
  {
   "cell_type": "markdown",
   "id": "85c57d98-c094-4430-8fdc-f23a5393c407",
   "metadata": {},
   "source": [
    "# Shopping and Billing"
   ]
  },
  {
   "cell_type": "code",
   "execution_count": 32,
   "id": "0cebf7c5-d904-46db-8390-2a7458a68594",
   "metadata": {},
   "outputs": [
    {
     "name": "stdin",
     "output_type": "stream",
     "text": [
      "Enter the total purchase amount:  34\n"
     ]
    },
    {
     "name": "stdout",
     "output_type": "stream",
     "text": [
      "Total Amount (including shipping): 39.0\n"
     ]
    }
   ],
   "source": [
    "# Question: What is the shipping fee if the total purchase is more than $50?\n",
    "# Answer: Free shipping; otherwise, charge $5 for shipping.\n",
    "\n",
    "purchase_amount = float(input(\"Enter the total purchase amount: \"))\n",
    "\n",
    "if purchase_amount > 50:\n",
    "    shipping_fee = 0  # Free shipping\n",
    "else:\n",
    "    shipping_fee = 5  # $5 shipping fee\n",
    "    \n",
    "total_amount = purchase_amount + shipping_fee\n",
    "print(\"Total Amount (including shipping):\", total_amount)\n"
   ]
  },
  {
   "cell_type": "code",
   "execution_count": 40,
   "id": "63475138-1142-4309-9bd6-22c23c93cb78",
   "metadata": {},
   "outputs": [
    {
     "name": "stdin",
     "output_type": "stream",
     "text": [
      "Enter the total purchase amount:  45\n",
      "Enter the discount code:  DISCOUNT10\n"
     ]
    },
    {
     "name": "stdout",
     "output_type": "stream",
     "text": [
      "Total Amount After Discount: 40.5\n"
     ]
    }
   ],
   "source": [
    "# Question: How much discount is applied if the correct discount code is entered?\n",
    "# Answer: 10% discount.\n",
    "\n",
    "purchase_amount = float(input(\"Enter the total purchase amount: \"))\n",
    "discount_code = input(\"Enter the discount code: \").upper()\n",
    "\n",
    "if discount_code == \"DISCOUNT10\":\n",
    "    purchase_amount *= 0.9  # Applying 10% discount\n",
    "    \n",
    "print(\"Total Amount After Discount:\", purchase_amount)"
   ]
  },
  {
   "cell_type": "code",
   "execution_count": 44,
   "id": "ed2fb930-4c71-477d-82a6-9840ede1e5f7",
   "metadata": {},
   "outputs": [
    {
     "name": "stdin",
     "output_type": "stream",
     "text": [
      "Enter the total purchase amount:  120\n"
     ]
    },
    {
     "name": "stdout",
     "output_type": "stream",
     "text": [
      "Total Amount After Discount: 96.0\n"
     ]
    }
   ],
   "source": [
    "# Question: What is the discount based on the total price?\n",
    "# Answer: \n",
    "# $0–$50: No discount\n",
    "# $50–$100: 10% discount\n",
    "# Over $100: 20% discount\n",
    "\n",
    "purchase_amount = float(input(\"Enter the total purchase amount: \"))\n",
    "if purchase_amount > 100:\n",
    "    purchase_amount *= 0.8  # Applying 20% discount\n",
    "elif purchase_amount >= 50:\n",
    "    purchase_amount *= 0.9  # Applying 10% discount\n",
    "print(\"Total Amount After Discount:\", purchase_amount)\n"
   ]
  },
  {
   "cell_type": "code",
   "execution_count": 48,
   "id": "41f51be1-1cd4-4dd6-84d3-f115bcacb7e0",
   "metadata": {},
   "outputs": [
    {
     "name": "stdin",
     "output_type": "stream",
     "text": [
      "Enter the total purchase amount:  13\n"
     ]
    },
    {
     "name": "stdout",
     "output_type": "stream",
     "text": [
      "Minimum purchase of $20 is required.\n"
     ]
    }
   ],
   "source": [
    "# Question: What message should be displayed if the total amount is less than $20?\n",
    "# Answer: \"Minimum purchase of $20 is required.\"\n",
    "\n",
    "purchase_amount = float(input(\"Enter the total purchase amount: \"))\n",
    "if purchase_amount < 20:\n",
    "    print(\"Minimum purchase of $20 is required.\")\n",
    "else:\n",
    "    print(\"Total Amount:\", purchase_amount)\n"
   ]
  },
  {
   "cell_type": "code",
   "execution_count": 70,
   "id": "ed0d43bb-62a1-46bd-acd7-e3efa486ae11",
   "metadata": {},
   "outputs": [
    {
     "name": "stdin",
     "output_type": "stream",
     "text": [
      "Is the customer a loyal member? (yes/no):  no\n",
      "Enter the total purchase amount:  23\n"
     ]
    },
    {
     "name": "stdout",
     "output_type": "stream",
     "text": [
      "Loyalty Points Earned: 23.0\n"
     ]
    }
   ],
   "source": [
    "# Question: How are loyalty points earned for a loyal customer?\n",
    "# Answer: Loyal customers earn double loyalty points.\n",
    "\n",
    "is_loyal = input(\"Is the customer a loyal member? (yes/no): \").lower() == \"yes\"  # converting to bool , assignment operator checking yes ==> true\n",
    "purchase_amount = float(input(\"Enter the total purchase amount: \"))\n",
    "if is_loyal:\n",
    "    loyalty_points = purchase_amount * 2  # Double loyalty points for loyal members\n",
    "else:\n",
    "    loyalty_points = purchase_amount  # Standard loyalty points\n",
    "print(\"Loyalty Points Earned:\", loyalty_points)\n",
    "\n",
    "\n",
    "\n"
   ]
  },
  {
   "cell_type": "markdown",
   "id": "a0036c4e-8cc0-44fe-9d76-7da15e8998d0",
   "metadata": {},
   "source": [
    "# Travel and Tickets"
   ]
  },
  {
   "cell_type": "code",
   "execution_count": 15,
   "id": "6e2086af-b09e-4996-abf0-47b35e172ed6",
   "metadata": {},
   "outputs": [
    {
     "name": "stdin",
     "output_type": "stream",
     "text": [
      "Enter the distance of travel in miles:  550\n",
      "Enter the ticket price:  500\n"
     ]
    },
    {
     "name": "stdout",
     "output_type": "stream",
     "text": [
      "Final Ticket Price: 400.0\n"
     ]
    }
   ],
   "source": [
    "# Question: If a person travels more than 500 miles, how much discount should be applied?\n",
    "# Answer: 20% discount on the ticket price.\n",
    "\n",
    "distance = float(input(\"Enter the distance of travel in miles: \"))\n",
    "ticket_price = float(input(\"Enter the ticket price: \"))\n",
    "\n",
    "if distance > 500:\n",
    "    ticket_price *= 0.8  # Applying 20% discount # ticket_price=ticket_price*0.8 \n",
    "print(\"Final Ticket Price:\", ticket_price)\n"
   ]
  },
  {
   "cell_type": "code",
   "execution_count": 19,
   "id": "ab7fcb05-0fa2-4a8c-829e-b308787e25a8",
   "metadata": {},
   "outputs": [
    {
     "name": "stdin",
     "output_type": "stream",
     "text": [
      "Enter the passenger's age:  17\n",
      "Enter the ticket price:  34\n"
     ]
    },
    {
     "name": "stdout",
     "output_type": "stream",
     "text": [
      "Final Ticket Price: 34.0\n"
     ]
    }
   ],
   "source": [
    "# Question: What is the discount rate for passengers under 12 or over 60?\n",
    "# Answer: 15% discount.\n",
    "\n",
    "age = int(input(\"Enter the passenger's age: \"))\n",
    "ticket_price = float(input(\"Enter the ticket price: \"))\n",
    "\n",
    "if age < 12 or age > 60:\n",
    "    ticket_price *= 0.85  # Applying 15% discount\n",
    "print(\"Final Ticket Price:\", ticket_price)\n"
   ]
  },
  {
   "cell_type": "code",
   "execution_count": 21,
   "id": "124389cc-71e8-4d00-9f26-630120dd938d",
   "metadata": {},
   "outputs": [
    {
     "name": "stdin",
     "output_type": "stream",
     "text": [
      "Enter the ticket price:  60\n",
      "Is the ticket for a weekend? (yes/no):  yes\n"
     ]
    },
    {
     "name": "stdout",
     "output_type": "stream",
     "text": [
      "Final Ticket Price: 66.0\n"
     ]
    }
   ],
   "source": [
    "# Question: What additional charge is applied for weekend tickets?\n",
    "# Answer: 10% surcharge.\n",
    "\n",
    "ticket_price = float(input(\"Enter the ticket price: \"))\n",
    "is_weekend = input(\"Is the ticket for a weekend? (yes/no): \").lower()\n",
    "\n",
    "if is_weekend:\n",
    "    ticket_price *= 1.1  # Applying 10% surcharge\n",
    "    \n",
    "print(\"Final Ticket Price:\", ticket_price)\n"
   ]
  },
  {
   "cell_type": "code",
   "execution_count": 25,
   "id": "34c23eca-4bfb-4518-871c-4e6402a432ea",
   "metadata": {},
   "outputs": [
    {
     "name": "stdin",
     "output_type": "stream",
     "text": [
      "Enter the total baggage weight in kg:  13\n"
     ]
    },
    {
     "name": "stdout",
     "output_type": "stream",
     "text": [
      "Extra Baggage Fee: 0\n"
     ]
    }
   ],
   "source": [
    "# Question: What is the fee for baggage over 20kg?\n",
    "# Answer: $10 per extra kilogram.\n",
    "\n",
    "baggage_weight = float(input(\"Enter the total baggage weight in kg: \"))\n",
    "\n",
    "extra_fee = 0\n",
    "if baggage_weight > 20:\n",
    "    extra_fee = (baggage_weight - 20) * 10  # $10 per extra kg\n",
    "print(\"Extra Baggage Fee:\", extra_fee)\n"
   ]
  },
  {
   "cell_type": "code",
   "execution_count": 27,
   "id": "99ea14db-793e-4967-aceb-52271ed90309",
   "metadata": {},
   "outputs": [
    {
     "name": "stdin",
     "output_type": "stream",
     "text": [
      "How many days in advance was the ticket booked?  45\n",
      "Enter the ticket price:  34\n"
     ]
    },
    {
     "name": "stdout",
     "output_type": "stream",
     "text": [
      "Final Ticket Price: 30.6\n"
     ]
    }
   ],
   "source": [
    "# Question: What is the discount for booking tickets more than 30 days in advance?\n",
    "# Answer: 10% discount.\n",
    "\n",
    "days_in_advance = int(input(\"How many days in advance was the ticket booked? \"))\n",
    "ticket_price = float(input(\"Enter the ticket price: \"))\n",
    "\n",
    "if days_in_advance > 30:\n",
    "    ticket_price *= 0.9  # Applying 10% discount\n",
    "\n",
    "print(\"Final Ticket Price:\", ticket_price)\n"
   ]
  },
  {
   "cell_type": "markdown",
   "id": "579547e7-0361-4f07-a60e-cf9b49f1b859",
   "metadata": {},
   "source": [
    "# Grades And Performance"
   ]
  },
  {
   "cell_type": "code",
   "execution_count": 1,
   "id": "626038ca-8d48-41dd-8ec3-27c45b60850c",
   "metadata": {},
   "outputs": [
    {
     "name": "stdin",
     "output_type": "stream",
     "text": [
      "Enter the student's score:  556\n"
     ]
    },
    {
     "name": "stdout",
     "output_type": "stream",
     "text": [
      "Pass\n"
     ]
    }
   ],
   "source": [
    "# 21.\tPass or Fail If a student scores 40 or more, print \"Pass\". Otherwise, print \"Fail\".\n",
    "score = int(input(\"Enter the student's score: \"))\n",
    "if score >= 40:\n",
    "    print(\"Pass\")\n",
    "else:\n",
    "    print(\"Fail\")\n"
   ]
  },
  {
   "cell_type": "code",
   "execution_count": 3,
   "id": "6f8fc82c-101e-4d75-bed0-99dc464b1d12",
   "metadata": {},
   "outputs": [
    {
     "name": "stdin",
     "output_type": "stream",
     "text": [
      "Enter the student's score:  45\n"
     ]
    },
    {
     "name": "stdout",
     "output_type": "stream",
     "text": [
      "Grade: F\n"
     ]
    }
   ],
   "source": [
    "# 22 22.\tGrade Assignment Based on a student's score, assign grades:\n",
    "# \t90 and above: \"A\"\n",
    "# \t75–89: \"B\"\n",
    "# \t50–74: \"C\"\n",
    "# \tBelow 50: \"F\"\n",
    "\n",
    "score = int(input(\"Enter the student's score: \"))\n",
    "if score >= 90:\n",
    "    print(\"Grade: A\")\n",
    "elif score >= 75:\n",
    "    print(\"Grade: B\")\n",
    "elif score >= 50:\n",
    "    print(\"Grade: C\")\n",
    "else:\n",
    "    print(\"Grade: F\")\n",
    "    \n"
   ]
  },
  {
   "cell_type": "code",
   "execution_count": 5,
   "id": "08e1d44b-4ec0-454c-9773-bd6326749ee3",
   "metadata": {},
   "outputs": [
    {
     "name": "stdin",
     "output_type": "stream",
     "text": [
      "Enter the student's score:  45\n",
      "Did the student complete all assignments? (yes/no):  yes\n"
     ]
    },
    {
     "name": "stdout",
     "output_type": "stream",
     "text": [
      "Final Score: 50\n"
     ]
    }
   ],
   "source": [
    "# 23.\tBonus Marks If a student completes all assignments, add 5 bonus marks to their score. Otherwise, no bonus marks.\n",
    "\n",
    "score = int(input(\"Enter the student's score: \"))\n",
    "\n",
    "completed_assignments = input(\"Did the student complete all assignments? (yes/no): \").lower()\n",
    "\n",
    "if completed_assignments == \"yes\":\n",
    "    score += 5\n",
    "    \n",
    "print(\"Final Score:\", score)\n"
   ]
  },
  {
   "cell_type": "code",
   "execution_count": 7,
   "id": "51348972-bc79-4c77-8003-7c00e5b0c7be",
   "metadata": {},
   "outputs": [
    {
     "name": "stdin",
     "output_type": "stream",
     "text": [
      "Enter the student's attendance percentage[0-100]:  56\n"
     ]
    },
    {
     "name": "stdout",
     "output_type": "stream",
     "text": [
      "Not eligible to take the exam\n"
     ]
    }
   ],
   "source": [
    "# 24Attendance Eligibility If a student's attendance is 75% or more, they are eligible to take the exam. Otherwise, they are not.\n",
    "attendance = float(input(\"Enter the student's attendance percentage[0-100]: \"))\n",
    "if attendance >= 75:\n",
    "    print(\"Eligible to take the exam\")\n",
    "else:\n",
    "    print(\"Not eligible to take the exam\")\n"
   ]
  },
  {
   "cell_type": "code",
   "execution_count": 11,
   "id": "57425fcb-5e0b-4df0-90f3-7fad20920691",
   "metadata": {},
   "outputs": [
    {
     "name": "stdin",
     "output_type": "stream",
     "text": [
      "Enter the student's grade (A/B/C/F):  45\n",
      "Enter the student's annual family income:  6\n"
     ]
    },
    {
     "name": "stdout",
     "output_type": "stream",
     "text": [
      "Not eligible for a scholarship\n"
     ]
    }
   ],
   "source": [
    "# 25.\tScholarship Eligibility If a student's grade is \"A\" and their annual family income is below $30,000, they are eligible for a scholarship. Otherwise, they are not.\n",
    "grade = input(\"Enter the student's grade (A/B/C/F): \").upper()\n",
    "\n",
    "family_income = float(input(\"Enter the student's annual family income: \"))\n",
    "\n",
    "\n",
    "if grade == \"A\" and family_income < 30000:\n",
    "    print(\"Eligible for a scholarship\")\n",
    "else:\n",
    "    print(\"Not eligible for a scholarship\")\n"
   ]
  }
 ],
 "metadata": {
  "kernelspec": {
   "display_name": "Python 3 (ipykernel)",
   "language": "python",
   "name": "python3"
  },
  "language_info": {
   "codemirror_mode": {
    "name": "ipython",
    "version": 3
   },
   "file_extension": ".py",
   "mimetype": "text/x-python",
   "name": "python",
   "nbconvert_exporter": "python",
   "pygments_lexer": "ipython3",
   "version": "3.12.7"
  }
 },
 "nbformat": 4,
 "nbformat_minor": 5
}
