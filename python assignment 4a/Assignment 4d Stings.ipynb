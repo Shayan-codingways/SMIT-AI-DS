{
 "cells": [
  {
   "cell_type": "markdown",
   "id": "b3eb8c9e-5d25-4cd3-9528-9d7340c19e6f",
   "metadata": {},
   "source": [
    "## 1. Write a program that accepts a string from user. Your program should count and display number of vowels in that string."
   ]
  },
  {
   "cell_type": "code",
   "execution_count": 4,
   "id": "d698090b-9d56-4379-bb40-fb70d1d520cd",
   "metadata": {},
   "outputs": [
    {
     "name": "stdin",
     "output_type": "stream",
     "text": [
      "Enter a string:  ejjdhevveow\n"
     ]
    },
    {
     "name": "stdout",
     "output_type": "stream",
     "text": [
      "Number of vowels in the string: 4\n"
     ]
    }
   ],
   "source": [
    "\n",
    "\n",
    "def count_vowels():\n",
    "    user_input = input(\"Enter a string: \")\n",
    "    vowels = \"aeiouAEIOU\"\n",
    "    \n",
    "    count = 0\n",
    "    for char in user_input:\n",
    "        if char in vowels:\n",
    "            count += 1\n",
    "    \n",
    "    print(f\"Number of vowels in the string: {count}\")\n",
    "\n",
    "count_vowels()\n"
   ]
  },
  {
   "cell_type": "code",
   "execution_count": 10,
   "id": "25126dfc-b733-4fdc-bc39-32236b11033e",
   "metadata": {},
   "outputs": [
    {
     "name": "stdin",
     "output_type": "stream",
     "text": [
      "Enter a string:  AEIoU\n"
     ]
    },
    {
     "name": "stdout",
     "output_type": "stream",
     "text": [
      "Number of vowels in the string: 5\n"
     ]
    }
   ],
   "source": [
    "\n",
    "\n",
    "def count_vowels():\n",
    "    user_input = input(\"Enter a string: \")\n",
    "    vowels = ['a','e','i','o','u']\n",
    "\n",
    "    \n",
    "    count = 0\n",
    "    for char in user_input.lower():\n",
    "        if char in vowels:\n",
    "            count += 1\n",
    "    \n",
    "    print(f\"Number of vowels in the string: {count}\")\n",
    "\n",
    "count_vowels()"
   ]
  },
  {
   "cell_type": "markdown",
   "id": "88c82b56-6a7e-4cf6-bf8e-c49b8ba9c5c1",
   "metadata": {},
   "source": [
    "## 2. Write a program that reads a string from keyboard and display:\n",
    "* The number of uppercase letters in the string\n",
    "* The number of lowercase letters in the string\n",
    "* The number of digits in the string\n",
    "* The number of whitespace characters in the string"
   ]
  },
  {
   "cell_type": "code",
   "execution_count": 13,
   "id": "5e573546-f1c7-436f-9551-2bccc68693f4",
   "metadata": {},
   "outputs": [
    {
     "name": "stdin",
     "output_type": "stream",
     "text": [
      "Enter a string:  hJOjk8g6 jkP\n"
     ]
    },
    {
     "name": "stdout",
     "output_type": "stream",
     "text": [
      "Uppercase letters: 3\n",
      "Lowercase letters: 6\n",
      "Digits: 2\n",
      "Whitespace characters: 1\n"
     ]
    }
   ],
   "source": [
    "# Simplified Program 2\n",
    "def analyze_string():\n",
    "    user_input = input(\"Enter a string: \")\n",
    "    \n",
    "    uppercase = 0\n",
    "    lowercase = 0\n",
    "    digits = 0\n",
    "    whitespaces = 0\n",
    "    \n",
    "    for char in user_input:\n",
    "        if char.isupper():\n",
    "            uppercase += 1\n",
    "        elif char.islower():\n",
    "            lowercase += 1\n",
    "        elif char.isdigit():\n",
    "            digits += 1\n",
    "        elif char.isspace():\n",
    "            whitespaces += 1\n",
    "    \n",
    "    print(f\"Uppercase letters: {uppercase}\")\n",
    "    print(f\"Lowercase letters: {lowercase}\")\n",
    "    print(f\"Digits: {digits}\")\n",
    "    print(f\"Whitespace characters: {whitespaces}\")\n",
    "\n",
    "analyze_string()\n"
   ]
  },
  {
   "cell_type": "markdown",
   "id": "afa3a692-0c67-47b2-82f7-b22295753910",
   "metadata": {},
   "source": [
    "## Write a Python program that accepts a string from user. Your program should create and display a new string where the first and last characters have been exchanged."
   ]
  },
  {
   "cell_type": "code",
   "execution_count": 26,
   "id": "8d7ec72f-0be6-4a65-8ddf-408674418dbb",
   "metadata": {
    "scrolled": true
   },
   "outputs": [
    {
     "name": "stdin",
     "output_type": "stream",
     "text": [
      "Enter a string:  dhdhdjs\n"
     ]
    },
    {
     "name": "stdout",
     "output_type": "stream",
     "text": [
      "New string: shdhdjd\n"
     ]
    }
   ],
   "source": [
    "def exchange_first_last():\n",
    "    user_input = input(\"Enter a string: \")\n",
    "    \n",
    "    if len(user_input):\n",
    "        new_string = user_input[-1] + user_input[1:-1] + user_input[0]\n",
    "        print(f\"New string: {new_string}\")\n",
    "\n",
    "exchange_first_last()"
   ]
  },
  {
   "cell_type": "code",
   "execution_count": 28,
   "id": "093d78e4-3fe5-4979-b40b-ccf25090693f",
   "metadata": {},
   "outputs": [
    {
     "name": "stdin",
     "output_type": "stream",
     "text": [
      "Enter a string:  shshgda\n"
     ]
    },
    {
     "ename": "TypeError",
     "evalue": "'str' object does not support item assignment",
     "output_type": "error",
     "traceback": [
      "\u001b[1;31m---------------------------------------------------------------------------\u001b[0m",
      "\u001b[1;31mTypeError\u001b[0m                                 Traceback (most recent call last)",
      "Cell \u001b[1;32mIn[28], line 12\u001b[0m\n\u001b[0;32m      6\u001b[0m     new_string[\u001b[38;5;241m-\u001b[39m\u001b[38;5;241m1\u001b[39m] \u001b[38;5;241m=\u001b[39m user_input[\u001b[38;5;241m0\u001b[39m]\n\u001b[0;32m      8\u001b[0m     \u001b[38;5;28mprint\u001b[39m(new_string)\n\u001b[1;32m---> 12\u001b[0m exchange_first_last()\n",
      "Cell \u001b[1;32mIn[28], line 5\u001b[0m, in \u001b[0;36mexchange_first_last\u001b[1;34m()\u001b[0m\n\u001b[0;32m      2\u001b[0m user_input \u001b[38;5;241m=\u001b[39m \u001b[38;5;28minput\u001b[39m(\u001b[38;5;124m\"\u001b[39m\u001b[38;5;124mEnter a string: \u001b[39m\u001b[38;5;124m\"\u001b[39m)\n\u001b[0;32m      4\u001b[0m new_string\u001b[38;5;241m=\u001b[39muser_input\n\u001b[1;32m----> 5\u001b[0m new_string[\u001b[38;5;241m0\u001b[39m] \u001b[38;5;241m=\u001b[39m user_input[\u001b[38;5;241m-\u001b[39m\u001b[38;5;241m1\u001b[39m]\n\u001b[0;32m      6\u001b[0m new_string[\u001b[38;5;241m-\u001b[39m\u001b[38;5;241m1\u001b[39m] \u001b[38;5;241m=\u001b[39m user_input[\u001b[38;5;241m0\u001b[39m]\n\u001b[0;32m      8\u001b[0m \u001b[38;5;28mprint\u001b[39m(new_string)\n",
      "\u001b[1;31mTypeError\u001b[0m: 'str' object does not support item assignment"
     ]
    }
   ],
   "source": [
    "# strings immutable\n",
    "def exchange_first_last():\n",
    "    user_input = input(\"Enter a string: \")\n",
    "\n",
    "    new_string=user_input\n",
    "    new_string[0] = user_input[-1]\n",
    "    new_string[-1] = user_input[0]\n",
    "\n",
    "    print(new_string)\n",
    "\n",
    "       \n",
    "\n",
    "exchange_first_last()"
   ]
  },
  {
   "cell_type": "markdown",
   "id": "df2d31d1-0065-4712-8ea1-968ae7a8c4a1",
   "metadata": {},
   "source": [
    "## Write a Python program that accepts a string from user. Your program should create a new string in reverse of first string and display it."
   ]
  },
  {
   "cell_type": "code",
   "execution_count": 38,
   "id": "efde3b85-bc59-46e6-916a-8dd303e295d9",
   "metadata": {},
   "outputs": [
    {
     "name": "stdin",
     "output_type": "stream",
     "text": [
      "Enter a string:  shayan\n"
     ]
    },
    {
     "name": "stdout",
     "output_type": "stream",
     "text": [
      "Reversed string: nayahs\n"
     ]
    }
   ],
   "source": [
    "def reverse():\n",
    "    user_input = input(\"Enter a string: \")\n",
    "    \n",
    "    new_string = user_input[::-1]  # Correct slicing for reversing\n",
    "    print(f\"Reversed string: {new_string}\")\n",
    "\n",
    "reverse()\n"
   ]
  },
  {
   "cell_type": "code",
   "execution_count": 33,
   "id": "ef9ff505-259e-4b0c-9189-9d26c4988b58",
   "metadata": {},
   "outputs": [
    {
     "name": "stdin",
     "output_type": "stream",
     "text": [
      "Enter a string:  shayan\n"
     ]
    },
    {
     "name": "stdout",
     "output_type": "stream",
     "text": [
      "Reversed string: nayahs\n"
     ]
    }
   ],
   "source": [
    "def reverse_string():\n",
    "    user_input = input(\"Enter a string: \")\n",
    "    \n",
    "    reversed_string = \"\"\n",
    "    \n",
    "    for char in user_input:\n",
    "        reversed_string = char + reversed_string  # Add each character to the beginning\n",
    "    \n",
    "    print(f\"Reversed string: {reversed_string}\")\n",
    "\n",
    "reverse_string()\n"
   ]
  },
  {
   "cell_type": "markdown",
   "id": "9bf59f6b-b097-46ec-8cdd-d943e311e15b",
   "metadata": {},
   "source": [
    "## For user_input = \"HELLO\", let's see what happens in each loop iteration:\n",
    "\n",
    "First iteration (char = 'H'):\n",
    "\n",
    "reversed_string = char + reversed_string\n",
    "reversed_string = 'H' + \"\" → reversed_string = \"H\"\n",
    "Second iteration (char = 'E'):\n",
    "\n",
    "reversed_string = 'E' + \"H\" → reversed_string = \"EH\"\n",
    "Third iteration (char = 'L'):\n",
    "\n",
    "reversed_string = 'L' + \"EH\" → reversed_string = \"LEH\"\n",
    "Fourth iteration (char = 'L'):\n",
    "\n",
    "reversed_string = 'L' + \"LEH\" → reversed_string = \"LLEH\"\n",
    "Fifth iteration (char = 'O'):\n",
    "\n",
    "reversed_string = 'O' + \"LLEH\" → reversed_string = \"OLLEH\""
   ]
  },
  {
   "cell_type": "markdown",
   "id": "7143e736-8b9e-4c4a-b85c-8f63bfe35e11",
   "metadata": {},
   "source": [
    "## 5. Write a Python program that accepts a string from user. Your program should create a new string by shifting one position to left."
   ]
  },
  {
   "cell_type": "code",
   "execution_count": 42,
   "id": "136124cd-300e-49ba-a77f-f49e15e518a8",
   "metadata": {},
   "outputs": [
    {
     "name": "stdin",
     "output_type": "stream",
     "text": [
      "Enter a string:  dfghj\n"
     ]
    },
    {
     "name": "stdout",
     "output_type": "stream",
     "text": [
      "Shifted string: fghjd\n"
     ]
    }
   ],
   "source": [
    "def shift_left():\n",
    "    user_input = input(\"Enter a string: \")\n",
    "    \n",
    "    if len(user_input) > 1:\n",
    "        new_string = user_input[1:] + user_input[0]  # Take everything except the first character and add the first character at the end\n",
    "    else:\n",
    "        new_string = user_input  # If the string has 1 or no characters, it stays the same\n",
    "        \n",
    "    print(f\"Shifted string: {new_string}\")\n",
    "\n",
    "shift_left()\n"
   ]
  },
  {
   "cell_type": "markdown",
   "id": "93d96e12-68ac-41fa-9188-cf850877c5d6",
   "metadata": {},
   "source": [
    "## 6. Write a program that asks the user to input his name and print its initials. Assuming that the user always types first name, middle name and last name and does not include any unnecessary spaces."
   ]
  },
  {
   "cell_type": "code",
   "execution_count": null,
   "id": "48496f1d-7e43-44bc-98da-b6e26ab1e0ec",
   "metadata": {},
   "outputs": [],
   "source": [
    "def print_initials():\n",
    "    user_name = input(\"Enter your full name (first, middle, last): \")\n",
    "    initials = \"\"\n",
    "    \n",
    "    for char in user_name:  # Loop through each character\n",
    "        if initials == \"\" or initials[-1] == \" \":  # Check if it’s the first letter of a word\n",
    "            initials += char.upper() + \". \"  # Add the uppercase initial followed by a dot and space\n",
    "\n",
    "    print(f\"Initials: {initials.strip()}\")  # Remove trailing spaces and print\n",
    "\n",
    "print_initials()\n"
   ]
  },
  {
   "cell_type": "markdown",
   "id": "edd8c67c-affb-486c-961a-f905d3a94bf1",
   "metadata": {},
   "source": [
    "## 7. A palindrome is a string that reads the same backward as forward. For example, the words dad, madam and radar are all palindromes. Write a programs that determines whether the string is a  palindrome."
   ]
  },
  {
   "cell_type": "code",
   "execution_count": 4,
   "id": "c9ac0d4a-6edc-4f95-ba0e-4becad16ccde",
   "metadata": {},
   "outputs": [
    {
     "name": "stdin",
     "output_type": "stream",
     "text": [
      "Enter a string to check if it's a palindrome:  radar\n"
     ]
    },
    {
     "name": "stdout",
     "output_type": "stream",
     "text": [
      "'radar' is a palindrome!\n"
     ]
    }
   ],
   "source": [
    "def is_palindrome(string):\n",
    "    # Remove any whitespace and convert the string to lowercase\n",
    "    cleaned_string = ''.join(string.split()).lower()\n",
    "    \n",
    "    # Check if the cleaned string reads the same backward as forward\n",
    "    return cleaned_string == cleaned_string[::-1]\n",
    "\n",
    "# Input from the user\n",
    "user_input = input(\"Enter a string to check if it's a palindrome: \")\n",
    "\n",
    "# Check and display the result\n",
    "if is_palindrome(user_input):\n",
    "    print(f\"'{user_input}' is a palindrome!\")\n",
    "else:\n",
    "    print(f\"'{user_input}' is not a palindrome.\")\n"
   ]
  },
  {
   "cell_type": "markdown",
   "id": "65371f1f-908a-4b70-a6e9-aed0c79386de",
   "metadata": {},
   "source": []
  },
  {
   "cell_type": "code",
   "execution_count": 20,
   "id": "28c61b8f-acba-4dd5-a49d-62a8e022b22d",
   "metadata": {},
   "outputs": [
    {
     "name": "stdout",
     "output_type": "stream",
     "text": [
      "SHIFT\n",
      "HIFTS\n",
      "IFTSH\n",
      "FTSHI\n",
      "TSHIF\n",
      "SHIFT\n"
     ]
    }
   ],
   "source": [
    "def shift_string(string):\n",
    "    # Print the original string\n",
    "    print(string)\n",
    "    \n",
    "    # Rotate the string and display it in a loop\n",
    "    for i in range(1,len(string)+1):\n",
    "        rotated = string[i:] + string[:i]\n",
    "        print(rotated)\n",
    "\n",
    "\n",
    "# Call the function with the given word\n",
    "shift_string(\"SHIFT\")\n"
   ]
  },
  {
   "cell_type": "markdown",
   "id": "491739e9-eff0-4cec-a4f9-f6efd6950a22",
   "metadata": {},
   "source": [
    "## 9. Write a program in python that accepts a string to setup a passwords. Your entered password mustmeet the following requirements:\n",
    "\n",
    "The password must be at least eight characters long.\n",
    "It must contain at least one uppercase letter.\n",
    "It must contain at least one lowercase letter.\n",
    "It must contain at least one numeric digit.\n",
    "Your program should should perform this validation."
   ]
  },
  {
   "cell_type": "code",
   "execution_count": 27,
   "id": "ce459ced-284f-4044-af4c-b96de626f51a",
   "metadata": {},
   "outputs": [
    {
     "name": "stdin",
     "output_type": "stream",
     "text": [
      "Enter a password:  Pfkfkg\n"
     ]
    },
    {
     "name": "stdout",
     "output_type": "stream",
     "text": [
      "Password must be at least 8 characters long.\n"
     ]
    }
   ],
   "source": [
    "def validate_password(password):\n",
    "    has_upper = False\n",
    "    has_lower = False\n",
    "    has_digit = False\n",
    "\n",
    "    # Loop through each character in the password\n",
    "    for char in password:\n",
    "        if char.isupper():\n",
    "            has_upper = True\n",
    "        elif char.islower():\n",
    "            has_lower = True\n",
    "        elif char.isdigit():\n",
    "            has_digit = True\n",
    "\n",
    "    # Check all conditions\n",
    "    if len(password) < 8:\n",
    "        print(\"Password must be at least 8 characters long.\")\n",
    "    elif not has_upper:\n",
    "        print(\"Password must contain at least one uppercase letter.\")\n",
    "    elif not has_lower:\n",
    "        print(\"Password must contain at least one lowercase letter.\")\n",
    "    elif not has_digit:\n",
    "        print(\"Password must contain at least one numeric digit.\")\n",
    "    else:\n",
    "        print(\"Password is valid!\")\n",
    "\n",
    "# Input from the user\n",
    "user_password = input(\"Enter a password: \")\n",
    "\n",
    "# Validate the password\n",
    "validate_password(user_password)\n",
    "\n"
   ]
  }
 ],
 "metadata": {
  "kernelspec": {
   "display_name": "Python 3 (ipykernel)",
   "language": "python",
   "name": "python3"
  },
  "language_info": {
   "codemirror_mode": {
    "name": "ipython",
    "version": 3
   },
   "file_extension": ".py",
   "mimetype": "text/x-python",
   "name": "python",
   "nbconvert_exporter": "python",
   "pygments_lexer": "ipython3",
   "version": "3.12.7"
  }
 },
 "nbformat": 4,
 "nbformat_minor": 5
}
