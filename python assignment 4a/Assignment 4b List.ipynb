{
 "cells": [
  {
   "cell_type": "markdown",
   "id": "a2a4d814-3ede-4879-9f98-faa2d2ac884c",
   "metadata": {},
   "source": [
    "## 1. Write a program that accepts a list from user and print the alternate element of list.\n"
   ]
  },
  {
   "cell_type": "code",
   "execution_count": 36,
   "id": "6e5f4572-7f47-428e-b5c2-e3f8f57b5de5",
   "metadata": {},
   "outputs": [
    {
     "name": "stdin",
     "output_type": "stream",
     "text": [
      "No of Items you want to buy?  4\n",
      "Tell me the items:  5\n",
      "Tell me the items:  6\n",
      "Tell me the items:  7\n",
      "Tell me the items:  8\n"
     ]
    },
    {
     "name": "stdout",
     "output_type": "stream",
     "text": [
      "Items I have are :  5\n",
      "Items I have are :  7\n"
     ]
    }
   ],
   "source": [
    "n = int(input(\"No of Items you want to buy? \"))\n",
    "\n",
    "items=[]\n",
    "for i in range(0,n):\n",
    "    user_input = input(\"Tell me the items: \")\n",
    "    items.append(user_input)\n",
    "\n",
    "for i in range(0,n,2):\n",
    "   print(f\"Items I have are :  {items[i]}\")\n"
   ]
  },
  {
   "cell_type": "code",
   "execution_count": 42,
   "id": "924d9d3b-768e-4bd2-8369-f7d9dd9a7559",
   "metadata": {},
   "outputs": [
    {
     "name": "stdin",
     "output_type": "stream",
     "text": [
      "No of Items you want to buy?  4\n",
      "Tell me the items:  5\n",
      "Tell me the items:  6\n",
      "Tell me the items:  7\n",
      "Tell me the items:  \n"
     ]
    },
    {
     "name": "stdout",
     "output_type": "stream",
     "text": [
      "Items I have are: 5\n",
      "Items I have are: 7\n"
     ]
    }
   ],
   "source": [
    "n = int(input(\"No of Items you want to buy? \"))\n",
    "\n",
    "items = [None] * n  # Pre-define the list with `None`\n",
    "for i in range(0, n):\n",
    "    user_input = input(\"Tell me the items: \")\n",
    "    items[i] = user_input  # Overwrite the placeholder value\n",
    "\n",
    "for i in range(0, n, 2):\n",
    "   print(f\"Items I have are: {items[i]}\")\n"
   ]
  },
  {
   "cell_type": "markdown",
   "id": "fa698863-9b9b-48e9-84d0-4de029e8a095",
   "metadata": {},
   "source": [
    "## 2. Write a program that accepts a list from user. Your program should reverse the content of list and display it. Do not use reverse() method."
   ]
  },
  {
   "cell_type": "code",
   "execution_count": 75,
   "id": "e63eb6c6-23cb-484c-8ac7-994ebe78d20b",
   "metadata": {},
   "outputs": [
    {
     "name": "stdin",
     "output_type": "stream",
     "text": [
      "No of Items you want to buy?  4\n",
      "Tell me the items:  j\n",
      "Tell me the items:  d\n",
      "Tell me the items:  s\n",
      "Tell me the items:  e\n"
     ]
    }
   ],
   "source": [
    "n = int(input(\"No of Items you want to buy? \"))\n",
    "\n",
    "items = []   # Pre-define the list with `None`\n",
    "for i in range(0, n):\n",
    "    user_input = input(\"Tell me the items: \")\n",
    "    items.append(user_input)\n",
    "\n",
    "items[2]\n",
    "for i in range (n,n-1):\n",
    "    print(items[i])\n",
    "\n"
   ]
  },
  {
   "cell_type": "code",
   "execution_count": null,
   "id": "969a9948-766e-4a7b-9241-e2326ce50098",
   "metadata": {},
   "outputs": [],
   "source": []
  }
 ],
 "metadata": {
  "kernelspec": {
   "display_name": "Python 3 (ipykernel)",
   "language": "python",
   "name": "python3"
  },
  "language_info": {
   "codemirror_mode": {
    "name": "ipython",
    "version": 3
   },
   "file_extension": ".py",
   "mimetype": "text/x-python",
   "name": "python",
   "nbconvert_exporter": "python",
   "pygments_lexer": "ipython3",
   "version": "3.12.7"
  }
 },
 "nbformat": 4,
 "nbformat_minor": 5
}
