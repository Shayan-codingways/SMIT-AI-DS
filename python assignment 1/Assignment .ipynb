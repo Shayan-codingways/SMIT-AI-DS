{
 "cells": [
  {
   "cell_type": "markdown",
   "id": "f554fd7a-fb16-4600-bb49-eb1ddd1ed7c6",
   "metadata": {},
   "source": [
    "1) Using the python print function print any string value, integer value, boolean value, float value in single print command"
   ]
  },
  {
   "cell_type": "code",
   "execution_count": 2,
   "id": "62f9fb3f-03e3-400b-ab7d-df944cc14f84",
   "metadata": {},
   "outputs": [
    {
     "name": "stdout",
     "output_type": "stream",
     "text": [
      "String value: Hello, World! Integer value: 42 Boolean value: True Float value: 3.14\n"
     ]
    }
   ],
   "source": [
    "print(\"String value:\", \"Hello, World!\", \"Integer value:\", 42, \"Boolean value:\", True, \"Float value:\", 3.14)\n"
   ]
  },
  {
   "cell_type": "markdown",
   "id": "90dc757d-f137-45f6-a935-0f97f14592c6",
   "metadata": {},
   "source": [
    "2) Using the python print function print hyphon(-) separated any string value, integer value, boolean value, float value in single print command"
   ]
  },
  {
   "cell_type": "code",
   "execution_count": 4,
   "id": "3828db1c-73ec-4fb7-ac91-e7e5ca8fde95",
   "metadata": {},
   "outputs": [
    {
     "name": "stdout",
     "output_type": "stream",
     "text": [
      "Hello, World!-42-True-3.14\n"
     ]
    }
   ],
   "source": [
    "print(\"Hello, World!\", 42, True, 3.14, sep=\"-\")\n"
   ]
  },
  {
   "cell_type": "markdown",
   "id": "87a2d933-9f13-44d8-9927-fe964bc9aced",
   "metadata": {},
   "source": [
    "3) Using the python print function print any string value, integer value, boolean value, float value in separate print command.\n",
    "But every value must be space separated and in single line"
   ]
  },
  {
   "cell_type": "code",
   "execution_count": 9,
   "id": "f2f0f355-0498-4142-940b-c976b944dbf0",
   "metadata": {},
   "outputs": [
    {
     "name": "stdout",
     "output_type": "stream",
     "text": [
      "Hello, World! 42 True 3.14\n"
     ]
    }
   ],
   "source": [
    "print(\"Hello, World!\", end=\" \")\n",
    "print(42, end=\" \")\n",
    "print(True, end=\" \")\n",
    "print(3.14)\n"
   ]
  },
  {
   "cell_type": "markdown",
   "id": "d5366af0-02d7-4749-bfbc-11e674359600",
   "metadata": {},
   "source": [
    "4) Can a python print function take no value to print???"
   ]
  },
  {
   "cell_type": "code",
   "execution_count": 12,
   "id": "f55355a7-8982-4df4-ac8d-b1d89d8572ef",
   "metadata": {},
   "outputs": [
    {
     "name": "stdout",
     "output_type": "stream",
     "text": [
      "Hello, World!\n",
      "\n",
      "This is a blank line above!\n"
     ]
    }
   ],
   "source": [
    "print(\"Hello, World!\")\n",
    "print()\n",
    "print(\"This is a blank line above!\")\n",
    "\n",
    "# prints a line with nothing in there"
   ]
  },
  {
   "cell_type": "markdown",
   "id": "b8c55761-63a9-46b5-9029-4014a251e19b",
   "metadata": {},
   "source": [
    "5) One of my friends name is Mr. Ahmed. He is 30 years old.  He is a lawer by profession. He has done his bachelors in law in the year 2005. He is working with a reputable law firm 'The Himalya Associates' in Karachi since 2015.\n",
    "He is a handsome lawer with height of 5.10 feets and weight 70600g. His monthly income is Rs. 200k PKR.\n",
    "\n",
    "Note: Create variables from above text and also assign values from the text.  "
   ]
  },
  {
   "cell_type": "code",
   "execution_count": 15,
   "id": "fdb669fb-368b-4511-9850-adc501000e7f",
   "metadata": {},
   "outputs": [
    {
     "name": "stdout",
     "output_type": "stream",
     "text": [
      "Name: Mr. Ahmed\n",
      "Age: 30\n",
      "Profession: lawyer\n",
      "Education: Bachelors in Law\n",
      "Graduation Year: 2005\n",
      "Law Firm: The Himalya Associates\n",
      "City: Karachi\n",
      "Joining Year: 2015\n",
      "Height: 5.1 feet\n",
      "Weight: 70600 grams\n",
      "Monthly Income: 200000 PKR\n"
     ]
    }
   ],
   "source": [
    "# Variables and their values from the given text\n",
    "friend_name = \"Mr. Ahmed\"\n",
    "age = 30\n",
    "profession = \"lawyer\"\n",
    "education = \"Bachelors in Law\"\n",
    "graduation_year = 2005\n",
    "law_firm = \"The Himalya Associates\"\n",
    "city = \"Karachi\"\n",
    "joining_year = 2015\n",
    "height = 5.10  # in feet\n",
    "weight = 70600  # in grams\n",
    "monthly_income = 200000  # in PKR\n",
    "\n",
    "# Printing the variables to verify\n",
    "print(\"Name:\", friend_name)\n",
    "print(\"Age:\", age)\n",
    "print(\"Profession:\", profession)\n",
    "print(\"Education:\", education)\n",
    "print(\"Graduation Year:\", graduation_year)\n",
    "print(\"Law Firm:\", law_firm)\n",
    "print(\"City:\", city)\n",
    "print(\"Joining Year:\", joining_year)\n",
    "print(\"Height:\", height, \"feet\")\n",
    "print(\"Weight:\", weight, \"grams\")\n",
    "print(\"Monthly Income:\", monthly_income, \"PKR\")\n"
   ]
  },
  {
   "cell_type": "markdown",
   "id": "17811ade-80e9-4621-bb35-a6ade7c8997e",
   "metadata": {},
   "source": [
    "6) How many years has been to Mr. Ahmed after his bachelors degree? Create a variable that hold current year value and then subtract it from his passout year"
   ]
  },
  {
   "cell_type": "code",
   "execution_count": 20,
   "id": "21b069c2-89ab-47f6-b70b-697510058e69",
   "metadata": {},
   "outputs": [
    {
     "name": "stdout",
     "output_type": "stream",
     "text": [
      "Years since Mr. Ahmed's graduation: 19\n"
     ]
    }
   ],
   "source": [
    "# Variables\n",
    "graduation_year = 2005\n",
    "current_year = 2024  # Assign the current year\n",
    "\n",
    "# Calculate years since graduation\n",
    "years_since_graduation = current_year - graduation_year\n",
    "\n",
    "# Print the result\n",
    "print(\"Years since Mr. Ahmed's graduation:\", years_since_graduation)\n"
   ]
  },
  {
   "cell_type": "markdown",
   "id": "71c3a455-d59b-42f2-bb77-8f3ea5a9bd8b",
   "metadata": {},
   "source": [
    "7) How many years has Mr. Ahmed been working with law firm 'The Himalya Associates'. Create necesary variables and print the correct number of years in working in the firm"
   ]
  },
  {
   "cell_type": "code",
   "execution_count": 23,
   "id": "2dd6b9f7-0726-4be7-a283-ddddd1e7bf8a",
   "metadata": {},
   "outputs": [
    {
     "name": "stdout",
     "output_type": "stream",
     "text": [
      "Years Mr. Ahmed has been working with 'The Himalya Associates': 9\n"
     ]
    }
   ],
   "source": [
    "# Variables\n",
    "joining_year = 2015\n",
    "current_year = 2024  # Assign the current year\n",
    "\n",
    "# Calculate years of work at the law firm\n",
    "years_in_firm = current_year - joining_year\n",
    "\n",
    "# Print the result\n",
    "print(\"Years Mr. Ahmed has been working with 'The Himalya Associates':\", years_in_firm)\n"
   ]
  },
  {
   "cell_type": "markdown",
   "id": "8d969e28-788f-4432-b015-438c74ebf5ba",
   "metadata": {},
   "source": [
    "8) Convert the monthly income of Mr. Ahmed in dollars.  Create necesary variables and print the income in dollars."
   ]
  },
  {
   "cell_type": "code",
   "execution_count": 26,
   "id": "0b136da9-bcc6-4559-a982-5a67828cd8ce",
   "metadata": {},
   "outputs": [
    {
     "name": "stdout",
     "output_type": "stream",
     "text": [
      "Mr. Ahmed's monthly income in USD: 714.29\n"
     ]
    }
   ],
   "source": [
    "# Variables\n",
    "monthly_income_pkr = 200000  # Monthly income in PKR\n",
    "exchange_rate = 280  # 1 USD = 280 PKR\n",
    "\n",
    "# Convert income to USD\n",
    "monthly_income_usd = monthly_income_pkr / exchange_rate\n",
    "\n",
    "# Print the result\n",
    "print(\"Mr. Ahmed's monthly income in USD:\", round(monthly_income_usd, 2))\n"
   ]
  },
  {
   "cell_type": "markdown",
   "id": "d1f8add4-2e29-4ce8-bd6e-6726c14271fd",
   "metadata": {},
   "source": [
    "9) Check if the income in dollars is a float or integer value. if it is float, re-write the code so that income gets converted in integer. print the income in integer type value"
   ]
  },
  {
   "cell_type": "code",
   "execution_count": 36,
   "id": "f5033d20-0487-4940-83e7-0f863fae559e",
   "metadata": {},
   "outputs": [
    {
     "name": "stdout",
     "output_type": "stream",
     "text": [
      "Income in USD (original): 714.2857142857143\n",
      "Is the income in USD a float? True\n",
      "Income in USD (as an integer): 714\n"
     ]
    }
   ],
   "source": [
    "# Variables\n",
    "# use of isinstance function\n",
    "\n",
    "monthly_income_pkr = 200000  # Monthly income in PKR\n",
    "exchange_rate = 280  # 1 USD = 280 PKR\n",
    "\n",
    "# Convert income to USD\n",
    "monthly_income_usd = monthly_income_pkr / exchange_rate\n",
    "\n",
    "# Check the type of income and convert if necessary\n",
    "print(\"Income in USD (original):\", monthly_income_usd)\n",
    "print(\"Is the income in USD a float?\", isinstance(monthly_income_usd, float))\n",
    "\n",
    "# Convert to integer\n",
    "monthly_income_usd_int = int(monthly_income_usd)\n",
    "\n",
    "# Print the income as an integer\n",
    "print(\"Income in USD (as an integer):\", monthly_income_usd_int)\n"
   ]
  },
  {
   "cell_type": "markdown",
   "id": "dacd9b68-977e-4342-a127-428e02f8f0ab",
   "metadata": {},
   "source": [
    "10) Print the type of Mr. Ahmed's weight. Convert the weight of Mr. Ahmed in kg so that weight must be a integer value."
   ]
  },
  {
   "cell_type": "code",
   "execution_count": 38,
   "id": "7568825d-7d8f-4d8c-811c-55818101eda1",
   "metadata": {},
   "outputs": [
    {
     "name": "stdout",
     "output_type": "stream",
     "text": [
      "Type of weight before conversion: <class 'int'>\n",
      "Weight in kilograms (as integer): 70\n",
      "Type of weight after conversion: <class 'int'>\n"
     ]
    }
   ],
   "source": [
    "# Variables\n",
    "weight_in_grams = 70600  # Mr. Ahmed's weight in grams\n",
    "\n",
    "# Print the type of the weight\n",
    "print(\"Type of weight before conversion:\", type(weight_in_grams))\n",
    "\n",
    "# Convert weight to kilograms (and make sure it is an integer)\n",
    "weight_in_kg = int(weight_in_grams / 1000)\n",
    "\n",
    "# Print the converted weight and its type\n",
    "print(\"Weight in kilograms (as integer):\", weight_in_kg)\n",
    "print(\"Type of weight after conversion:\", type(weight_in_kg))\n"
   ]
  },
  {
   "cell_type": "markdown",
   "id": "ab99760e-e01b-4442-ae98-0f3feab58b7a",
   "metadata": {},
   "source": [
    "11) print the year of birth of Mr. Ahmed."
   ]
  },
  {
   "cell_type": "code",
   "execution_count": 41,
   "id": "e0e8d206-e0fe-45e1-85b3-cef283734a85",
   "metadata": {},
   "outputs": [
    {
     "name": "stdout",
     "output_type": "stream",
     "text": [
      "Mr. Ahmed's year of birth: 1994\n"
     ]
    }
   ],
   "source": [
    "# Variables\n",
    "current_year = 2024  # Current year\n",
    "age = 30  # Mr. Ahmed's age\n",
    "\n",
    "# Calculate year of birth\n",
    "year_of_birth = current_year - age\n",
    "\n",
    "# Print the year of birth\n",
    "print(\"Mr. Ahmed's year of birth:\", year_of_birth)\n"
   ]
  },
  {
   "cell_type": "markdown",
   "id": "7abf4c2f-5501-48bc-8bd4-137acfc6c160",
   "metadata": {},
   "source": [
    "12) Can Rs. 100 be divided equally among 6 students?\n",
    "HINT: % operator (modulo)"
   ]
  },
  {
   "cell_type": "code",
   "execution_count": 44,
   "id": "af473c13-bcc7-4b44-9a38-e55694d9b107",
   "metadata": {},
   "outputs": [
    {
     "name": "stdout",
     "output_type": "stream",
     "text": [
      "No, Rs. 100 cannot be divided equally among 6 students.\n"
     ]
    }
   ],
   "source": [
    "# Variables\n",
    "total_amount = 100  # Total amount in Rs\n",
    "num_students = 6  # Number of students\n",
    "\n",
    "# Check if the amount can be divided equally among students\n",
    "if total_amount % num_students == 0:\n",
    "    print(\"Yes, Rs. 100 can be divided equally among 6 students.\")\n",
    "else:\n",
    "    print(\"No, Rs. 100 cannot be divided equally among 6 students.\")\n"
   ]
  }
 ],
 "metadata": {
  "kernelspec": {
   "display_name": "Python 3 (ipykernel)",
   "language": "python",
   "name": "python3"
  },
  "language_info": {
   "codemirror_mode": {
    "name": "ipython",
    "version": 3
   },
   "file_extension": ".py",
   "mimetype": "text/x-python",
   "name": "python",
   "nbconvert_exporter": "python",
   "pygments_lexer": "ipython3",
   "version": "3.12.7"
  }
 },
 "nbformat": 4,
 "nbformat_minor": 5
}
