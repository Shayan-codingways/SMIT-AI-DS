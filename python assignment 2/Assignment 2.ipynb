{
 "cells": [
  {
   "cell_type": "code",
   "execution_count": 1,
   "id": "92f2aa78-306d-4fbb-b16b-f4d81ab81107",
   "metadata": {},
   "outputs": [
    {
     "name": "stdin",
     "output_type": "stream",
     "text": [
      "Enter the length of the rectangle:  3\n",
      "Enter the width of the rectangle:  4.3\n"
     ]
    },
    {
     "name": "stdout",
     "output_type": "stream",
     "text": [
      "The area of the rectangle is 12.899999999999999\n"
     ]
    }
   ],
   "source": [
    "# qs 1\n",
    "length = float(input(\"Enter the length of the rectangle: \"))\n",
    "width = float(input(\"Enter the width of the rectangle: \"))\n",
    "area = length * width\n",
    "print(f\"The area of the rectangle is {area}\")\n"
   ]
  },
  {
   "cell_type": "code",
   "execution_count": 3,
   "id": "e39cbcf0-2a1a-4a9b-a296-5455affd9454",
   "metadata": {},
   "outputs": [
    {
     "name": "stdin",
     "output_type": "stream",
     "text": [
      "Enter the radius of the circle:  3\n"
     ]
    },
    {
     "name": "stdout",
     "output_type": "stream",
     "text": [
      "The circumference of the circle is 18.849539999999998\n"
     ]
    }
   ],
   "source": [
    "# qs 2\n",
    "radius = float(input(\"Enter the radius of the circle: \"))\n",
    "pi = 3.14159\n",
    "circumference = 2 * pi * radius\n",
    "print(f\"The circumference of the circle is {circumference}\")\n"
   ]
  },
  {
   "cell_type": "code",
   "execution_count": 5,
   "id": "2f49c4d4-5c74-4bd5-9b8b-03b894040f68",
   "metadata": {},
   "outputs": [
    {
     "name": "stdin",
     "output_type": "stream",
     "text": [
      "Enter the principal amount:  34442\n",
      "Enter the annual interest rate (in decimal):  1.2\n",
      "Enter the time (in years):  2\n"
     ]
    },
    {
     "name": "stdout",
     "output_type": "stream",
     "text": [
      "The simple interest is 82660.8\n"
     ]
    }
   ],
   "source": [
    "# qs 3\n",
    "principal = float(input(\"Enter the principal amount: \"))\n",
    "rate = float(input(\"Enter the annual interest rate (in decimal): \"))\n",
    "time = float(input(\"Enter the time (in years): \"))\n",
    "simple_interest = principal * rate * time\n",
    "print(f\"The simple interest is {simple_interest}\")\n"
   ]
  },
  {
   "cell_type": "code",
   "execution_count": 7,
   "id": "3f2900be-5aa8-48a6-a8f3-a3f5969dd86a",
   "metadata": {},
   "outputs": [
    {
     "name": "stdin",
     "output_type": "stream",
     "text": [
      "Enter the distance (in meters):  4\n",
      "Enter the time (in seconds):  3\n"
     ]
    },
    {
     "name": "stdout",
     "output_type": "stream",
     "text": [
      "The speed of the object is 1.3333333333333333 m/s\n"
     ]
    }
   ],
   "source": [
    "# qs 4\n",
    "distance = float(input(\"Enter the distance (in meters): \"))\n",
    "time = float(input(\"Enter the time (in seconds): \"))\n",
    "speed = distance / time\n",
    "print(f\"The speed of the object is {speed} m/s\")\n"
   ]
  },
  {
   "cell_type": "code",
   "execution_count": 9,
   "id": "f7681152-1998-4011-a5ee-f30812b49bf2",
   "metadata": {},
   "outputs": [
    {
     "name": "stdin",
     "output_type": "stream",
     "text": [
      "Enter your weight (in kilograms):  3\n",
      "Enter your height (in meters):  4\n"
     ]
    },
    {
     "name": "stdout",
     "output_type": "stream",
     "text": [
      "Your BMI is 0.1875\n"
     ]
    }
   ],
   "source": [
    "# qs 5\n",
    "weight = float(input(\"Enter your weight (in kilograms): \"))\n",
    "height = float(input(\"Enter your height (in meters): \"))\n",
    "bmi = weight / (height ** 2)\n",
    "print(f\"Your BMI is {bmi}\")\n"
   ]
  },
  {
   "cell_type": "code",
   "execution_count": 11,
   "id": "d79a08ec-012e-408a-8798-601ce315c2ea",
   "metadata": {},
   "outputs": [
    {
     "name": "stdin",
     "output_type": "stream",
     "text": [
      "Enter the mass (in kilograms):  300\n",
      "Enter the acceleration (in m/s^2):  34\n"
     ]
    },
    {
     "name": "stdout",
     "output_type": "stream",
     "text": [
      "The force is 10200.0 N\n"
     ]
    }
   ],
   "source": [
    "# qs 6\n",
    "mass = float(input(\"Enter the mass (in kilograms): \"))\n",
    "acceleration = float(input(\"Enter the acceleration (in m/s^2): \"))\n",
    "force = mass * acceleration\n",
    "print(f\"The force is {force} N\")\n"
   ]
  },
  {
   "cell_type": "code",
   "execution_count": 13,
   "id": "67a76f6f-4783-4072-9842-9d455606aa5c",
   "metadata": {},
   "outputs": [
    {
     "name": "stdin",
     "output_type": "stream",
     "text": [
      "Enter the principal amount:  3\n",
      "Enter the annual interest rate (in decimal):  4\n",
      "Enter the number of times interest is compounded per year:  5\n",
      "Enter the time (in years):  6\n"
     ]
    },
    {
     "name": "stdout",
     "output_type": "stream",
     "text": [
      "The total amount is 136551478.82371014\n"
     ]
    }
   ],
   "source": [
    "# qs 7\n",
    "principal = float(input(\"Enter the principal amount: \"))\n",
    "rate = float(input(\"Enter the annual interest rate (in decimal): \"))\n",
    "n = int(input(\"Enter the number of times interest is compounded per year: \"))\n",
    "time = float(input(\"Enter the time (in years): \"))\n",
    "compound_interest = principal * (1 + rate / n) ** (n * time)\n",
    "print(f\"The total amount is {compound_interest}\")\n"
   ]
  },
  {
   "cell_type": "code",
   "execution_count": 15,
   "id": "60006ec3-1957-42f0-bbe1-727f3ece3f2a",
   "metadata": {},
   "outputs": [
    {
     "name": "stdin",
     "output_type": "stream",
     "text": [
      "Enter the length of side a:  4\n",
      "Enter the length of side b:  5\n",
      "Enter the length of side c:  6\n"
     ]
    },
    {
     "name": "stdout",
     "output_type": "stream",
     "text": [
      "The perimeter of the triangle is 15.0\n"
     ]
    }
   ],
   "source": [
    "# qs 8\n",
    "\n",
    "a = float(input(\"Enter the length of side a: \"))\n",
    "b = float(input(\"Enter the length of side b: \"))\n",
    "c = float(input(\"Enter the length of side c: \"))\n",
    "perimeter = a + b + c\n",
    "print(f\"The perimeter of the triangle is {perimeter}\")\n"
   ]
  },
  {
   "cell_type": "code",
   "execution_count": 17,
   "id": "9c13c612-2075-4760-8bed-dae76cce2972",
   "metadata": {},
   "outputs": [
    {
     "name": "stdin",
     "output_type": "stream",
     "text": [
      "Enter the radius of the sphere:  4\n"
     ]
    },
    {
     "name": "stdout",
     "output_type": "stream",
     "text": [
      "The volume of the sphere is 268.08234666666664\n"
     ]
    }
   ],
   "source": [
    "# qs 9\n",
    "\n",
    "radius = float(input(\"Enter the radius of the sphere: \"))\n",
    "pi = 3.14159\n",
    "volume = (4 / 3) * pi * (radius ** 3)\n",
    "print(f\"The volume of the sphere is {volume}\")\n",
    "\n"
   ]
  },
  {
   "cell_type": "code",
   "execution_count": 19,
   "id": "6182d23e-e54e-400b-9459-4808a0ac0fbe",
   "metadata": {},
   "outputs": [
    {
     "name": "stdin",
     "output_type": "stream",
     "text": [
      "Enter the mass (in kilograms):  4\n",
      "Enter the velocity (in m/s):  3\n"
     ]
    },
    {
     "name": "stdout",
     "output_type": "stream",
     "text": [
      "The kinetic energy is 18.0 J\n"
     ]
    }
   ],
   "source": [
    "# qs 10\n",
    "\n",
    "mass = float(input(\"Enter the mass (in kilograms): \"))\n",
    "velocity = float(input(\"Enter the velocity (in m/s): \"))\n",
    "kinetic_energy = 0.5 * mass * (velocity ** 2)\n",
    "print(f\"The kinetic energy is {kinetic_energy} J\")\n"
   ]
  },
  {
   "cell_type": "code",
   "execution_count": 21,
   "id": "c77dec3e-8c6f-432f-b72a-527ad7b91d20",
   "metadata": {},
   "outputs": [
    {
     "name": "stdin",
     "output_type": "stream",
     "text": [
      "Enter the coefficient a:  4\n",
      "Enter the coefficient b:  5\n",
      "Enter the coefficient c:  6\n"
     ]
    },
    {
     "name": "stdout",
     "output_type": "stream",
     "text": [
      "The equation has no real roots\n"
     ]
    }
   ],
   "source": [
    "# qs 11\n",
    "\n",
    "a = float(input(\"Enter the coefficient a: \"))\n",
    "b = float(input(\"Enter the coefficient b: \"))\n",
    "c = float(input(\"Enter the coefficient c: \"))\n",
    "\n",
    "discriminant = b ** 2 - 4 * a * c # b2-4ac > 0 for real roots\n",
    "\n",
    "if discriminant >= 0:\n",
    "    root1 = (-b + discriminant ** 0.5) / (2 * a)\n",
    "    root2 = (-b - discriminant ** 0.5) / (2 * a)\n",
    "    print(f\"The roots are {root1} and {root2}\")\n",
    "else:\n",
    "    print(\"The equation has no real roots\")\n"
   ]
  },
  {
   "cell_type": "code",
   "execution_count": 25,
   "id": "0bff9f6f-d754-42da-b58e-c3653d532d91",
   "metadata": {},
   "outputs": [
    {
     "name": "stdin",
     "output_type": "stream",
     "text": [
      "Enter the temperature in Celsius:  4\n"
     ]
    },
    {
     "name": "stdout",
     "output_type": "stream",
     "text": [
      "The temperature in Fahrenheit is 39.2\n"
     ]
    }
   ],
   "source": [
    "# qs 12\n",
    "\n",
    "celsius = float(input(\"Enter the temperature in Celsius: \"))\n",
    "fahrenheit = (celsius * 9 / 5) + 32\n",
    "print(f\"The temperature in Fahrenheit is {fahrenheit}\")\n"
   ]
  },
  {
   "cell_type": "code",
   "execution_count": 27,
   "id": "3014a37a-085e-426b-aee1-ab8080802f26",
   "metadata": {},
   "outputs": [
    {
     "name": "stdin",
     "output_type": "stream",
     "text": [
      "Enter the mass of the first object (in kg):  4\n",
      "Enter the mass of the second object (in kg):  5\n",
      "Enter the distance between the objects (in meters):  3\n"
     ]
    },
    {
     "name": "stdout",
     "output_type": "stream",
     "text": [
      "The gravitational force is 1.4831777777777776e-10 N\n"
     ]
    }
   ],
   "source": [
    "# qs 13\n",
    "\n",
    "G = 6.67430e-11  # Gravitational constant\n",
    "m1 = float(input(\"Enter the mass of the first object (in kg): \"))\n",
    "m2 = float(input(\"Enter the mass of the second object (in kg): \"))\n",
    "r = float(input(\"Enter the distance between the objects (in meters): \"))\n",
    "force = G * (m1 * m2) / (r ** 2)\n",
    "print(f\"The gravitational force is {force} N\")\n"
   ]
  },
  {
   "cell_type": "code",
   "execution_count": 29,
   "id": "9ee5dd0f-9563-4aa9-8bf7-dfcfac1dc6ee",
   "metadata": {},
   "outputs": [
    {
     "name": "stdin",
     "output_type": "stream",
     "text": [
      "Enter the radius of the cylinder:  4\n",
      "Enter the height of the cylinder:  5\n"
     ]
    },
    {
     "name": "stdout",
     "output_type": "stream",
     "text": [
      "The volume of the cylinder is 251.3272\n"
     ]
    }
   ],
   "source": [
    "# qs 14\n",
    "radius = float(input(\"Enter the radius of the cylinder: \"))\n",
    "height = float(input(\"Enter the height of the cylinder: \"))\n",
    "pi = 3.14159\n",
    "volume = pi * (radius ** 2) * height\n",
    "print(f\"The volume of the cylinder is {volume}\")\n"
   ]
  },
  {
   "cell_type": "code",
   "execution_count": 31,
   "id": "fe1d85c3-799b-43d0-81de-a46828490843",
   "metadata": {},
   "outputs": [
    {
     "name": "stdin",
     "output_type": "stream",
     "text": [
      "Enter the force (in N):  5\n",
      "Enter the area (in m^2):  6\n"
     ]
    },
    {
     "name": "stdout",
     "output_type": "stream",
     "text": [
      "The pressure is 0.8333333333333334 Pa\n"
     ]
    }
   ],
   "source": [
    "# qs 15\n",
    "\n",
    "force = float(input(\"Enter the force (in N): \"))\n",
    "area = float(input(\"Enter the area (in m^2): \"))\n",
    "pressure = force / area\n",
    "print(f\"The pressure is {pressure} Pa\")\n"
   ]
  },
  {
   "cell_type": "code",
   "execution_count": 33,
   "id": "ffe20722-08b6-481a-9d5e-8b5fdcaef3f5",
   "metadata": {},
   "outputs": [
    {
     "name": "stdin",
     "output_type": "stream",
     "text": [
      "Enter the voltage (in V):  3\n",
      "Enter the current (in A):  4\n"
     ]
    },
    {
     "name": "stdout",
     "output_type": "stream",
     "text": [
      "The electric power is 12.0 W\n"
     ]
    }
   ],
   "source": [
    "# qs 16\n",
    "\n",
    "voltage = float(input(\"Enter the voltage (in V): \"))\n",
    "current = float(input(\"Enter the current (in A): \"))\n",
    "power = voltage * current\n",
    "print(f\"The electric power is {power} W\")\n"
   ]
  },
  {
   "cell_type": "code",
   "execution_count": 35,
   "id": "87250f1e-009f-4915-b242-6cf2e3f8901d",
   "metadata": {},
   "outputs": [
    {
     "name": "stdin",
     "output_type": "stream",
     "text": [
      "Enter the radius of the circle:  3\n"
     ]
    },
    {
     "name": "stdout",
     "output_type": "stream",
     "text": [
      "The perimeter of the circle is 18.849539999999998\n"
     ]
    }
   ],
   "source": [
    "# qs 17\n",
    "\n",
    "radius = float(input(\"Enter the radius of the circle: \"))\n",
    "pi = 3.14159\n",
    "perimeter = 2 * pi * radius\n",
    "print(f\"The perimeter of the circle is {perimeter}\")\n"
   ]
  },
  {
   "cell_type": "code",
   "execution_count": 37,
   "id": "ecfd91e8-889d-4a49-b098-5dc1facd870d",
   "metadata": {},
   "outputs": [
    {
     "name": "stdin",
     "output_type": "stream",
     "text": [
      "Enter the present value:  3\n",
      "Enter the annual interest rate (in decimal):  4\n",
      "Enter the time (in years):  5\n"
     ]
    },
    {
     "name": "stdout",
     "output_type": "stream",
     "text": [
      "The future value is 9375.0\n"
     ]
    }
   ],
   "source": [
    "# qs 18\n",
    "\n",
    "present_value = float(input(\"Enter the present value: \"))\n",
    "rate = float(input(\"Enter the annual interest rate (in decimal): \"))\n",
    "time = float(input(\"Enter the time (in years): \"))\n",
    "future_value = present_value * (1 + rate) ** time\n",
    "print(f\"The future value is {future_value}\")\n"
   ]
  },
  {
   "cell_type": "code",
   "execution_count": 43,
   "id": "d3259137-85bc-4b14-9154-4af8839b747b",
   "metadata": {},
   "outputs": [
    {
     "name": "stdin",
     "output_type": "stream",
     "text": [
      "Enter the force (in N):  4\n",
      "Enter the distance (in meters):  5\n",
      "Enter the angle (in degrees):  6\n"
     ]
    },
    {
     "name": "stdout",
     "output_type": "stream",
     "text": [
      "The work done is 19.890438092282498 J\n"
     ]
    }
   ],
   "source": [
    "# qs 19\n",
    "import math\n",
    "\n",
    "force = float(input(\"Enter the force (in N): \"))\n",
    "distance = float(input(\"Enter the distance (in meters): \"))\n",
    "theta = float(input(\"Enter the angle (in degrees): \"))\n",
    "\n",
    "theta_radians = theta * (3.14159 / 180)  # Convert degrees to radians\n",
    "\n",
    "\n",
    "work_done = force * distance * (math.cos(theta_radians))\n",
    "\n",
    "print(f\"The work done is {work_done} J\")\n"
   ]
  },
  {
   "cell_type": "code",
   "execution_count": 39,
   "id": "a5590ab8-5885-4b5d-b39d-28009325085f",
   "metadata": {},
   "outputs": [
    {
     "name": "stdin",
     "output_type": "stream",
     "text": [
      "Enter the mass (in kg):  4\n",
      "Enter the specific heat capacity (in J/kg·K):  5\n",
      "Enter the change in temperature (in K):  6\n"
     ]
    },
    {
     "name": "stdout",
     "output_type": "stream",
     "text": [
      "The heat transfer is 120.0 J\n"
     ]
    }
   ],
   "source": [
    "# qs 20\n",
    "\n",
    "mass = float(input(\"Enter the mass (in kg): \"))\n",
    "specific_heat = float(input(\"Enter the specific heat capacity (in J/kg·K): \"))\n",
    "delta_t = float(input(\"Enter the change in temperature (in K): \"))\n",
    "heat_transfer = mass * specific_heat * delta_t\n",
    "print(f\"The heat transfer is {heat_transfer} J\")\n"
   ]
  },
  {
   "cell_type": "code",
   "execution_count": null,
   "id": "f0accf8e-56cf-4b9d-9205-01ba690fd0db",
   "metadata": {},
   "outputs": [],
   "source": []
  }
 ],
 "metadata": {
  "kernelspec": {
   "display_name": "Python 3 (ipykernel)",
   "language": "python",
   "name": "python3"
  },
  "language_info": {
   "codemirror_mode": {
    "name": "ipython",
    "version": 3
   },
   "file_extension": ".py",
   "mimetype": "text/x-python",
   "name": "python",
   "nbconvert_exporter": "python",
   "pygments_lexer": "ipython3",
   "version": "3.12.7"
  }
 },
 "nbformat": 4,
 "nbformat_minor": 5
}
